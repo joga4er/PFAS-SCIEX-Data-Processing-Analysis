{
 "cells": [
  {
   "cell_type": "markdown",
   "metadata": {},
   "source": [
    "name: link_data \\\n",
    "date: 12/12/2024 \\\n",
    "version: 1.0 \\\n",
    "author: Juliana Agudelo, Johanna Ganglbauer \\\n",
    "\n",
    "**description**: Links LCMS data with general sample description, plots and evaluates correlations.\n",
    "\n",
    "**changes in comparison to previous version**:\n",
    "\n",
    "**what needs to be implemented**:\n"
   ]
  },
  {
   "cell_type": "code",
   "execution_count": null,
   "metadata": {
    "vscode": {
     "languageId": "r"
    }
   },
   "outputs": [],
   "source": [
    "# install packages\n",
    "library('ggplot2')\n",
    "library('corrplot')\n",
    "library('xlsx')\n",
    "library('dplyr')\n",
    "library('glue')"
   ]
  },
  {
   "cell_type": "code",
   "execution_count": 2,
   "metadata": {
    "vscode": {
     "languageId": "r"
    }
   },
   "outputs": [],
   "source": [
    "# indicate filepath where general sample description is saved to.\n",
    "linking_data_file = 'example_data_raw/linking_data_input/linking_data.csv'\n",
    "\n",
    "# specific case\n",
    "proteomics_results_file = 'example_data_raw/linking_data_input/TPA-calc_23-09-05-10-16_20230905_VICTERProject_FoldChange.xlsx'\n",
    "proteomics_results_sheet_name = 'Total Proteins'\n",
    "lcms_results_file = 'example_data_raw/linking_data_input/202303_and_202306_milk_sample_lcms.xlsx'\n",
    "lcms_results_sheet_name = '06_23 results'\n",
    "\n",
    "# general case\n",
    "results_folder = 'example_data_processed/linking_data_results/'\n",
    "\n",
    "# thresholds\n",
    "sigma = 0.5  # threshold for correlation value to be shown in correlation plot (correlations below sigma will not be shown)\n",
    "cols_per_plot <- 50  # number of proteins shown on each correlation plot\n",
    "nan_to_zero <- FALSE  # empty cells in proteomics and <MDL in LCMS are treated as zero?"
   ]
  },
  {
   "cell_type": "markdown",
   "metadata": {},
   "source": [
    "Below you find code to automatically read in lcms result files from lcms data analysis script, find samples of interst (relevant samples are indicated in linking_data_file) and put it in a data frame."
   ]
  },
  {
   "cell_type": "code",
   "execution_count": 3,
   "metadata": {
    "vscode": {
     "languageId": "r"
    }
   },
   "outputs": [],
   "source": [
    "# read in linking data, LCMS data and put everything together in a data frame\n",
    "link_data <- data.frame(read.csv(linking_data_file, na.strings=''))\n",
    "\n",
    "# # get all results in lcms result folder and put them together in a dataframe\n",
    "# # curent status: 1 file: todo -> make list!\n",
    "# list_csv_files = list.files(path = lcms_results_folder, pattern = '*.csv')\n",
    "# lcms_data <- read.csv(file.path(lcms_results_folder, list_csv_files[1]), na.strings='', stringsAsFactors=FALSE)\n",
    "# lcms_data <- data.frame(lcms_data)\n",
    "# for (column in c('Below.Detection.Threshold')){\n",
    "#     lcms_data[[column]] = as.logical(lcms_data[[column]])\n",
    "#     lcms_data[is.na(column), column] <- FALSE\n",
    "# }\n",
    "\n",
    "# lcms_data$Calculated.Concentration[lcms_data$Below.Detection.Threshold] <- NA\n",
    "\n",
    "# for (pfas_component in lcms_data$Component.Name){\n",
    "#     link_data[, pfas_component] <- NA\n",
    "#     relevant_concentration = lcms_data[lcms_data$Component.Name == pfas_component,]\n",
    "#     for (row in 1:nrow(link_data)){\n",
    "#         concentration = relevant_concentration$Calculated.Concentration[relevant_concentration$Sample.Name == link_data[row, 'sample_name_in_lcms']]\n",
    "#         link_data[row, pfas_component] = concentration\n",
    "#     }\n",
    "# }"
   ]
  },
  {
   "cell_type": "markdown",
   "metadata": {},
   "source": [
    "Very specific case: special input file for LCMS (not generalized), relevant for one concrete example. \\\n",
    "Read in data and replace '<MDL' with NA \\\n",
    "Append lcms data to original 'linking_data' data frame"
   ]
  },
  {
   "cell_type": "code",
   "execution_count": 4,
   "metadata": {
    "vscode": {
     "languageId": "r"
    }
   },
   "outputs": [],
   "source": [
    "lcms_data <- read.xlsx(\n",
    "    lcms_results_file, lcms_results_sheet_name, rowIndex = 18:21, colIndex = 1:14, stringsAsFactors = FALSE\n",
    "    )\n",
    "lcms_data <- lcms_data %>% mutate_all(~ifelse(. == \"<MDL\", NA, .))\n",
    "\n",
    "for (pfas_component in colnames(lcms_data)){\n",
    "    if (pfas_component == 'ng.g') {\n",
    "        next\n",
    "        }\n",
    "    for (row in 1:nrow(link_data)){\n",
    "        concentration = as.numeric(as.character(lcms_data[[pfas_component]][lcms_data$ng.g == link_data[row, 'sample_name_in_lcms']]))\n",
    "        link_data[row, pfas_component] = concentration\n",
    "    }\n",
    "}"
   ]
  },
  {
   "cell_type": "markdown",
   "metadata": {},
   "source": [
    "Input file for proteomics.\n",
    "Append proteomics data to original 'linking_data' data frame.\n",
    "\n",
    "Shorten descriptions, if they are longer than 150 letters, because long descriptions do not work with correlation plots...\n",
    "\n",
    "Replace all NaNs with zeros if it is supposed to be replaced."
   ]
  },
  {
   "cell_type": "code",
   "execution_count": 5,
   "metadata": {
    "vscode": {
     "languageId": "r"
    }
   },
   "outputs": [],
   "source": [
    "proteomics_data <- read.xlsx(\n",
    "    proteomics_results_file, proteomics_results_sheet_name, stringsAsFactors = FALSE\n",
    "    )\n",
    "\n",
    "for (protein in proteomics_data$PG.ProteinDescriptions){\n",
    "    protein_concentrations <- proteomics_data[proteomics_data$PG.ProteinDescriptions == protein, ]\n",
    "    for (row in 1:nrow(link_data)){\n",
    "        sample_name_in_proteomics <- make.names(link_data[row, 'sample_name_in_proteomics'])\n",
    "        link_data[row, protein] <- protein_concentrations[[sample_name_in_proteomics]]\n",
    "    }\n",
    "}\n",
    "\n",
    "for (column_index in seq_along(colnames(link_data))){\n",
    "    column_name = colnames(link_data)[column_index]\n",
    "    if (nchar(column_name) > 100){\n",
    "        colnames(link_data)[column_index] <- substr(column_name, start=1, stop=100)\n",
    "\n",
    "    }\n",
    "}\n",
    "\n",
    "if (nan_to_zero){\n",
    "    link_data <- link_data %>% mutate_all(~ifelse(is.na(.), 0, .))\n",
    "}"
   ]
  },
  {
   "cell_type": "markdown",
   "metadata": {},
   "source": [
    "Function to compute correlation and filter certain values. \\\n",
    "Plot correlation data only from fields which are not NaN, not 1 and the magnitude is greater than sigma.\n",
    "Plot correlations from each relevant point (not 1, not NaN and magnitude greater than sigma)"
   ]
  },
  {
   "cell_type": "code",
   "execution_count": 6,
   "metadata": {
    "vscode": {
     "languageId": "r"
    }
   },
   "outputs": [],
   "source": [
    "corr_simple <- function(xdata, ydata, sig){\n",
    "  # run a correlation and drop the insignificant ones\n",
    "  corr <- cor(xdata, ydata, use='pairwise.complete.obs')\n",
    "  # drop perfect correlations\n",
    "  corr[corr == 1] <- NA\n",
    "  # turn into a 3-column table\n",
    "  corr <- as.data.frame(as.table(corr))\n",
    "  # remove the NA values from above \n",
    "  corr <- na.omit(corr) \n",
    "  # select significant values  \n",
    "  corr <- subset(corr, abs(Freq) > sig) \n",
    "  # sort by highest correlation\n",
    "  corr <- corr[order(-abs(corr$Freq)),] \n",
    "  # turn corr back into matrix in order to plot with corrplot\n",
    "  mtx_corr <- reshape2::acast(corr, Var1~Var2, value.var=\"Freq\")\n",
    "  # return correlation matrix\n",
    "  return(mtx_corr)\n",
    "  }\n",
    "\n",
    "plot_corr <-function(mtx_corr, results_folder, n){\n",
    "  # plot correlations visually\n",
    "  png(glue('{results_folder}correlation_plot_{n}.png'))\n",
    "  corrplot(mtx_corr, is.corr=FALSE, tl.cex=0.5, tl.col=\"black\", na.label=\" \")\n",
    "  dev.off()\n",
    "}\n",
    "\n",
    "plot_single_corrs <-function(mtx_corr, link_data, results_folder, sigma){\n",
    "  for (pfas in rownames(mtx_corr)){\n",
    "    xdata = link_data[[pfas]]\n",
    "    i <- 0\n",
    "    for (protein in colnames(mtx_corr)){\n",
    "      correlation <- mtx_corr[pfas, protein]\n",
    "      if (is.na(correlation)){\n",
    "        next\n",
    "      } else{\n",
    "        if (abs(correlation) > sigma){\n",
    "          ydata = link_data[[protein]]\n",
    "          png(glue('{results_folder}correlation_{pfas}_{i}.png'))\n",
    "          gg <- ggplot(data=link_data, aes(x=xdata, y=ydata)) + geom_point() + geom_smooth(method='lm', se=TRUE, linetype='dashed') + \n",
    "          labs(x=glue('{pfas} [ng/g]'), y=glue('{protein} [?]')) + theme_minimal()\n",
    "          print(gg)\n",
    "          dev.off()\n",
    "          i <- i + 1\n",
    "        }\n",
    "      }\n",
    "    }\n",
    "  }\n",
    "}"
   ]
  },
  {
   "cell_type": "markdown",
   "metadata": {},
   "source": [
    "Make various correlation plots (PFAS vs. proteomics), because otherwise plot would be huge and not useful to interpret"
   ]
  },
  {
   "cell_type": "code",
   "execution_count": null,
   "metadata": {
    "vscode": {
     "languageId": "r"
    }
   },
   "outputs": [],
   "source": [
    "mtx_corr = corr_simple(\n",
    "  xdata=link_data[c(4:16)], ydata=link_data[c(seq(from=17, to=ncol(link_data), by=1))], sig=sigma\n",
    "  )\n",
    "  \n",
    "for (n in seq(from=1, to=floor(ncol(mtx_corr)/cols_per_plot), by=1)){\n",
    "  plot_corr(mtx_corr=mtx_corr[, c(seq((n-1) * cols_per_plot, n * cols_per_plot, 1))], results_folder=results_folder, n=n)\n",
    "}\n",
    "plot_corr(mtx_corr=mtx_corr[, c(seq((n-1) * cols_per_plot, n * cols_per_plot, 1))], results_folder=results_folder, n=n)\n",
    "\n",
    "plot_single_corrs(mtx_corr=mtx_corr, link_data=link_data, results_folder=results_folder, sigma=sigma)\n"
   ]
  },
  {
   "cell_type": "code",
   "execution_count": 8,
   "metadata": {
    "vscode": {
     "languageId": "r"
    }
   },
   "outputs": [],
   "source": [
    "# # evaluate correlations and plot correlation matrix for some components\n",
    "# correlation_matrix <- cor(link_data[c(4:ncol(link_data))], use='pairwise.complete.obs')\n",
    "# print('corr is not the problem')\n",
    "\n",
    "# #corrplot(correlation_matrix, type = \"upper\", order = \"hclust\", tl.cex=0.05, na.label = NA)\n",
    "# corrplot(correlation_matrix, tl.cex=0.05)\n",
    "#         #  tl.col = \"black\", tl.srt = 45,  na.label = \"NA\")\n",
    "\n",
    "for (pfas in colnames(link_data)[4:16]){\n",
    "    xdata = link_data[[pfas]]\n",
    "    for (protein in colnames(link_data)[17:ncol(link_data)])\n",
    "        ydata = link_data[[protein]]\n",
    "        gg <- ggplot(data=link_data, aes(x=xdata, y=ydata)) + geom_point() + geom_smooth(method='lm', se=TRUE, linetype='dashed') +\n",
    "        labs(x=glue('{pfas} [ng/g]'), y=glue('{protein} [?]')) + theme_minimal()\n",
    "}"
   ]
  }
 ],
 "metadata": {
  "kernelspec": {
   "display_name": "R",
   "language": "R",
   "name": "ir"
  },
  "language_info": {
   "codemirror_mode": "r",
   "file_extension": ".r",
   "mimetype": "text/x-r-source",
   "name": "R",
   "pygments_lexer": "r",
   "version": "3.6.1"
  }
 },
 "nbformat": 4,
 "nbformat_minor": 2
}

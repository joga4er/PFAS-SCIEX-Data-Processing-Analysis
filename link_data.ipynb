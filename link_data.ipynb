{
 "cells": [
  {
   "cell_type": "markdown",
   "metadata": {},
   "source": [
    "name: link_data \\\n",
    "date: 12/12/2024 \\\n",
    "version: 1.0 \\\n",
    "github root: #google colab stream: version 2.0\\\n",
    "author: Justin Sankey, Johanna Ganglbauer \\\n",
    "\n",
    "**description**: Links LCMS data with general sample description, plots and evaluates correlations.\n",
    "\n",
    "**changes in comparison to previous version**:\n",
    "\n",
    "**what needs to be implemented**:\n"
   ]
  },
  {
   "cell_type": "code",
   "execution_count": 25,
   "metadata": {
    "vscode": {
     "languageId": "r"
    }
   },
   "outputs": [],
   "source": [
    "# install packages\n",
    "library('ggplot2')\n",
    "library('corrplot')"
   ]
  },
  {
   "cell_type": "code",
   "execution_count": 26,
   "metadata": {
    "vscode": {
     "languageId": "r"
    }
   },
   "outputs": [],
   "source": [
    "# indicate filepath where general sample description is saved to.\n",
    "linking_data_file = 'linking_data.csv'\n",
    "lcms_results_folder = 'example_data_processed'"
   ]
  },
  {
   "cell_type": "code",
   "execution_count": 27,
   "metadata": {
    "vscode": {
     "languageId": "r"
    }
   },
   "outputs": [],
   "source": [
    "# read in linking data, LCMS data and put everything together in a data frame\n",
    "link_data <- data.frame(read.csv(linking_data_file, na.strings=''))\n",
    "\n",
    "# get all results in lcms result folder and put them together in a dataframe\n",
    "# curent status: 1 file: todo -> make list!\n",
    "list_csv_files = list.files(path = lcms_results_folder, pattern = '*.csv')\n",
    "lcms_data <- read.csv(file.path(lcms_results_folder, list_csv_files[1]), na.strings='', stringsAsFactors=FALSE)\n",
    "lcms_data <- data.frame(lcms_data)\n",
    "for (column in c('Below.Detection.Threshold')){\n",
    "    lcms_data[[column]] = as.logical(lcms_data[[column]])\n",
    "    lcms_data[is.na(column), column] <- FALSE\n",
    "}\n",
    "\n",
    "lcms_data$Calculated.Concentration[lcms_data$Below.Detection.Threshold] <- NA\n",
    "\n",
    "for (pfas_component in lcms_data$Component.Name){\n",
    "    link_data[, pfas_component] <- NA\n",
    "    relevant_concentration = lcms_data[lcms_data$Component.Name == pfas_component,]\n",
    "    for (row in 1:nrow(link_data)){\n",
    "        concentration = relevant_concentration$Calculated.Concentration[relevant_concentration$Sample.Name == link_data[row, 'sample_name_in_lcms']]\n",
    "        link_data[row, pfas_component] = concentration\n",
    "    }\n",
    "}"
   ]
  },
  {
   "cell_type": "code",
   "execution_count": null,
   "metadata": {
    "vscode": {
     "languageId": "r"
    }
   },
   "outputs": [],
   "source": [
    "# evaluate correlations and plot correlation matrix for some components\n",
    "correlation_matrix = cor(link_data[c('age', 'health_condition', 'PFOA', 'L-PFOS', 'L-PFHxS')], use='complete.obs')\n",
    "\n",
    "corrplot(correlation_matrix, type = \"upper\", order = \"hclust\", na.label = \"NA\")\n",
    "#          tl.col = \"black\", tl.srt = 45,  na.label = \"NA\")\n",
    "\n",
    "gg <- ggplot(data=link_data, aes(x=link_data[['L-PFOS']], y=PFOA)) + geom_point() + geom_smooth()\n",
    "# gg <- gg + geom_smooth(alpha=0.3, method=\"lm\")\n",
    "print(gg)"
   ]
  }
 ],
 "metadata": {
  "kernelspec": {
   "display_name": "R",
   "language": "R",
   "name": "ir"
  },
  "language_info": {
   "codemirror_mode": "r",
   "file_extension": ".r",
   "mimetype": "text/x-r-source",
   "name": "R",
   "pygments_lexer": "r",
   "version": "3.6.1"
  }
 },
 "nbformat": 4,
 "nbformat_minor": 2
}

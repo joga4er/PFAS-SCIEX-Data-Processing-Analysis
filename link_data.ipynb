{
 "cells": [
  {
   "cell_type": "markdown",
   "metadata": {},
   "source": [
    "name: link_data \\\n",
    "date: 12/12/2024 \\\n",
    "version: 1.0 \\\n",
    "author: Juliana Agudelo, Johanna Ganglbauer \\\n",
    "\n",
    "**description**: Links LCMS data with general sample description, plots and evaluates correlations.\n",
    "\n",
    "**changes in comparison to previous version**:\n",
    "\n",
    "**what needs to be implemented**:\n"
   ]
  },
  {
   "cell_type": "markdown",
   "metadata": {},
   "source": [
    "### Packages and parameters\n"
   ]
  },
  {
   "cell_type": "code",
   "execution_count": null,
   "metadata": {
    "vscode": {
     "languageId": "r"
    }
   },
   "outputs": [],
   "source": [
    "# install packages\n",
    "library('ggplot2')\n",
    "library('corrplot')\n",
    "library('xlsx')\n",
    "library('dplyr')\n",
    "library('glue')\n",
    "library('grid')\n",
    "library('corrgram')\n",
    "\n",
    "# restuls folder\n",
    "results_folder <- 'G:/Shared drives/LOHMANN LAB/STEEP project 4/4_LC MS analysis/STEEP_P3_Slitt_Lab_Juliana_Agudelo/Liver_samples_kansas/plots/'\n",
    "\n",
    "# thresholds\n",
    "sigma = 0.5  # threshold for correlation value to be shown in correlation plot (correlations below sigma will not be shown)\n",
    "cols_per_plot <- 50  # number of proteins shown on each correlation plot\n",
    "nan_to_zero <- FALSE  # empty cells in proteomics and <MDL in LCMS are treated as zero?\n",
    "min_coverage <- 0.4  # minimum coverage (not NAN entries in columns) to be included in evaluation"
   ]
  },
  {
   "cell_type": "markdown",
   "metadata": {},
   "source": [
    "### Option one\n",
    "Combine data from three files:\n",
    "- linking data\n",
    "- lcms results (pfas levels)\n",
    "- lcms results (protein levels)"
   ]
  },
  {
   "cell_type": "code",
   "execution_count": null,
   "metadata": {
    "vscode": {
     "languageId": "r"
    }
   },
   "outputs": [],
   "source": [
    "# # indicate filepath where general sample description is saved to.\n",
    "# linking_data_file = 'example_data_raw/linking_data_input/linking_data.csv'\n",
    "\n",
    "# # specific case\n",
    "# proteomics_results_file = 'example_data_raw/linking_data_input/TPA-calc_23-09-05-10-16_20230905_VICTERProject_FoldChange.xlsx'\n",
    "# proteomics_results_sheet_name = 'Total Proteins'\n",
    "# lcms_results_file = 'example_data_raw/linking_data_input/202303_and_202306_milk_sample_lcms.xlsx'\n",
    "# lcms_results_sheet_name = '06_23 results'\n",
    "\n",
    "# # general case\n",
    "# results_folder = 'example_data_processed/linking_data_results/'"
   ]
  },
  {
   "cell_type": "markdown",
   "metadata": {},
   "source": [
    "Below you find code to automatically read in lcms result files from lcms data analysis script, find samples of interst (relevant samples are indicated in linking_data_file) and put it in a data frame."
   ]
  },
  {
   "cell_type": "code",
   "execution_count": null,
   "metadata": {
    "vscode": {
     "languageId": "r"
    }
   },
   "outputs": [],
   "source": [
    "# # read in linking data, LCMS data and put everything together in a data frame\n",
    "# link_data <- data.frame(read.csv(linking_data_file, na.strings=''))\n",
    "\n",
    "# # get all results in lcms result folder and put them together in a dataframe\n",
    "# # curent status: 1 file: todo -> make list!\n",
    "# list_csv_files = list.files(path = lcms_results_folder, pattern = '*.csv')\n",
    "# lcms_data <- read.csv(file.path(lcms_results_folder, list_csv_files[1]), na.strings='', stringsAsFactors=FALSE)\n",
    "# lcms_data <- data.frame(lcms_data)\n",
    "# for (column in c('Below.Detection.Threshold')){\n",
    "#     lcms_data[[column]] = as.logical(lcms_data[[column]])\n",
    "#     lcms_data[is.na(column), column] <- FALSE\n",
    "# }\n",
    "\n",
    "# lcms_data$Calculated.Concentration[lcms_data$Below.Detection.Threshold] <- NA\n",
    "\n",
    "# for (pfas_component in lcms_data$Component.Name){\n",
    "#     link_data[, pfas_component] <- NA\n",
    "#     relevant_concentration = lcms_data[lcms_data$Component.Name == pfas_component,]\n",
    "#     for (row in 1:nrow(link_data)){\n",
    "#         concentration = relevant_concentration$Calculated.Concentration[relevant_concentration$Sample.Name == link_data[row, 'sample_name_in_lcms']]\n",
    "#         link_data[row, pfas_component] = concentration\n",
    "#     }\n",
    "# }"
   ]
  },
  {
   "cell_type": "markdown",
   "metadata": {},
   "source": [
    "Very specific case: special input file for LCMS (not generalized), relevant for one concrete example. \\\n",
    "Read in data and replace '<MDL' with NA \\\n",
    "Append lcms data to original 'linking_data' data frame"
   ]
  },
  {
   "cell_type": "code",
   "execution_count": null,
   "metadata": {
    "vscode": {
     "languageId": "r"
    }
   },
   "outputs": [],
   "source": [
    "# lcms_data <- read.xlsx(\n",
    "#     lcms_results_file, lcms_results_sheet_name, rowIndex = 18:21, colIndex = 1:14, stringsAsFactors = FALSE\n",
    "#     )\n",
    "# lcms_data <- lcms_data %>% mutate_all(~ifelse(. == \"<MDL\", NA, .))\n",
    "\n",
    "# for (pfas_component in colnames(lcms_data)){\n",
    "#     if (pfas_component == 'ng.g') {\n",
    "#         next\n",
    "#         }\n",
    "#     for (row in 1:nrow(link_data)){\n",
    "#         concentration = as.numeric(as.character(lcms_data[[pfas_component]][lcms_data$ng.g == link_data[row, 'sample_name_in_lcms']]))\n",
    "#         link_data[row, pfas_component] = concentration\n",
    "#     }\n",
    "# }"
   ]
  },
  {
   "cell_type": "markdown",
   "metadata": {},
   "source": [
    "Input file for proteomics.\n",
    "Append proteomics data to original 'linking_data' data frame.\n",
    "\n",
    "Shorten descriptions, if they are longer than 150 letters, because long descriptions do not work with correlation plots...\n",
    "\n",
    "Replace all NaNs with zeros if it is supposed to be replaced."
   ]
  },
  {
   "cell_type": "code",
   "execution_count": null,
   "metadata": {
    "vscode": {
     "languageId": "r"
    }
   },
   "outputs": [],
   "source": [
    "# proteomics_data <- read.xlsx(\n",
    "#     proteomics_results_file, proteomics_results_sheet_name, stringsAsFactors = FALSE\n",
    "#     )\n",
    "\n",
    "# for (protein in proteomics_data$PG.ProteinDescriptions){\n",
    "#     protein_concentrations <- proteomics_data[proteomics_data$PG.ProteinDescriptions == protein, ]\n",
    "#     for (row in 1:nrow(link_data)){\n",
    "#         sample_name_in_proteomics <- make.names(link_data[row, 'sample_name_in_proteomics'])\n",
    "#         link_data[row, protein] <- protein_concentrations[[sample_name_in_proteomics]]\n",
    "#     }\n",
    "# }\n",
    "\n",
    "# for (column_index in seq_along(colnames(link_data))){\n",
    "#     column_name = colnames(link_data)[column_index]\n",
    "#     if (nchar(column_name) > 100){\n",
    "#         colnames(link_data)[column_index] <- substr(column_name, start=1, stop=100)\n",
    "\n",
    "#     }\n",
    "# }\n",
    "\n",
    "# if (nan_to_zero){\n",
    "#     link_data <- link_data %>% mutate_all(~ifelse(is.na(.), 0, .))\n",
    "# }"
   ]
  },
  {
   "cell_type": "markdown",
   "metadata": {},
   "source": [
    "### Option 2\n",
    "Relevant data + PFAS data in one file, proteomics somewhere else\n",
    "(1) read in and clean 'general input table'\n",
    "(2) read in and clean proteomics data"
   ]
  },
  {
   "cell_type": "code",
   "execution_count": null,
   "metadata": {
    "vscode": {
     "languageId": "r"
    }
   },
   "outputs": [],
   "source": [
    "# read in relevant rows\n",
    "linking_data <- read.xlsx(\n",
    "    'G:/Shared drives/LOHMANN LAB/STEEP project 4/4_LC MS analysis/STEEP_P3_Slitt_Lab_Juliana_Agudelo/Liver_samples_kansas/Liver_samples_kansas.xlsx',\n",
    "    'Use this', rowIndex = 1:96, colIndex = append(c(5, 7, 14, 26, 29, 37, 38, 49, 50, 51, 55), seq(58, 82, 1)), stringsAsFactors = FALSE\n",
    ")\n",
    "\n",
    "# data cleaning\n",
    "# replace 1 month age with 0 (years)\n",
    "linking_data$Age <- replace(linking_data$Age, linking_data$Age=='1 month', 0)\n",
    "\n",
    "# replace 'Unk' with NA\n",
    "linking_data$Body.Mass.Index..BMI. <- replace(linking_data$Body.Mass.Index..BMI., linking_data$Body.Mass.Index..BMI.=='Unk', NA)\n",
    "\n",
    "# replace 'Unknown' with NA\n",
    "linking_data$Specimen.Collection.Year <- replace(linking_data$Specimen.Collection.Year, linking_data$Specimen.Collection.Year=='Unknown', NA)\n",
    "\n",
    "# selct only rows which contain either PFAS Analysis or Proteomics Analysis\n",
    "linking_data <- linking_data[linking_data$Processed.for.PFAS.Targeted.LC.MS == 'YES' | linking_data$Processed.for.Proteomics.Analysis == 'YES', ]"
   ]
  },
  {
   "cell_type": "code",
   "execution_count": null,
   "metadata": {
    "vscode": {
     "languageId": "r"
    }
   },
   "outputs": [],
   "source": [
    "proteomics_data <- read.csv(\n",
    "    'G:/Shared drives/LOHMANN LAB/STEEP project 4/4_LC MS analysis/STEEP_P3_Slitt_Lab_Juliana_Agudelo/Liver_samples_kansas/202411_liver_samples_kansas_proteins.csv',\n",
    "    stringsAsFactors = FALSE\n",
    "    )\n",
    "available_sample_names <- colnames(proteomics_data)\n",
    "number_of_linking_data_rows = nrow(linking_data)\n",
    "\n",
    "for(protein in proteomics_data$PG.ProteinDescriptions){\n",
    "    protein_concentrations <- proteomics_data[proteomics_data$PG.ProteinDescriptions == protein, ]\n",
    "    protein_name = make.names(protein)\n",
    "    for(row in 1:number_of_linking_data_rows){\n",
    "        sample_name_in_linking_data <- make.names(linking_data[row, 'Site...Specimen.Number'])\n",
    "        mask_sample_name_in_proteomics_data <- grepl(sample_name_in_linking_data, available_sample_names)\n",
    "        if(any(mask_sample_name_in_proteomics_data)){\n",
    "            sample_name_in_proteomics_data <- available_sample_names[mask_sample_name_in_proteomics_data]\n",
    "            linking_data[row, protein_name] <- protein_concentrations[[sample_name_in_proteomics_data]]\n",
    "        } \n",
    "    }\n",
    "}\n",
    "\n",
    "for (column_index in seq_along(colnames(linking_data))){\n",
    "    column_name <- colnames(linking_data)[column_index]\n",
    "    if (nchar(column_name) > 100){\n",
    "        colnames(linking_data)[column_index] <- substr(column_name, start=1, stop=100)\n",
    "    }\n",
    "}"
   ]
  },
  {
   "cell_type": "code",
   "execution_count": null,
   "metadata": {
    "vscode": {
     "languageId": "r"
    }
   },
   "outputs": [],
   "source": [
    "# compute data coverage of each row (how many data entries compared to NaNs)\n",
    "coverage <- linking_data %>% summarise_all(~ number_of_linking_data_rows - sum(is.na(.))) / number_of_linking_data_rows\n",
    "\n",
    "# delete columns with low coverage\n",
    "linking_data <- linking_data[,coverage >= min_coverage]\n",
    "\n",
    "# rename columns\n",
    "colnames(linking_data)[colnames(linking_data) == 'BCA.Total.Protein..mg.mL.or.g.L.'] <- 'Proteins'\n",
    "colnames(linking_data)[colnames(linking_data) == 'Total.Lipids..g.g.'] <- 'Lipids'\n",
    "colnames(linking_data)[colnames(linking_data) == 'Liver.Fat.Content....'] <- 'Liverfat'\n",
    "colnames(linking_data)[colnames(linking_data) == 'Body.Mass.Index..BMI.'] <- 'BMI'\n",
    "colnames(linking_data)[colnames(linking_data) == 'X.U.2211.PFAS..ng.g.'] <- 'PFAS'\n",
    "\n",
    "# Get all PFAS column names\n",
    "all_columns <- colnames(linking_data)\n",
    "pfas_subset <- all_columns[grepl('(PF|FOSA|FTS)', all_columns)]\n",
    "pfas_subset <- pfas_subset[!grepl('(PFAS.Targeted.LC.MS|rotein|RNA)', pfas_subset)]\n",
    "\n",
    "# get all protein column names\n",
    "protein_subset <- all_columns[seq(match(pfas_subset[length(pfas_subset)],all_columns), length(all_columns), 1)]\n",
    "\n",
    "# Set all pfas values below MDL to zero (it is important that rows where no PFAS analysis was conducted remain NaN)\n",
    "mdls <- read.xlsx(\n",
    "  'G:/Shared drives/LOHMANN LAB/STEEP project 4/4_LC MS analysis/STEEP_P3_Slitt_Lab_Juliana_Agudelo/Liver_samples_kansas/20241212_liver_samples_kansas_lcms.xlsx',\n",
    "  'Detection Threshold', colIndex = c(1,6), stringsAsFactors = FALSE\n",
    ")\n",
    "\n",
    "colnames(mdls) = c('pfas', 'mdl')\n",
    "\n",
    "for (pfas_component in pfas_subset){\n",
    "  if(pfas_component != 'PFAS'){\n",
    "    pfas_identifier <- gsub(\"L.\", \"L-\", pfas_component)\n",
    "    pfas_identifier <- gsub(\"Br.\", \"Br-\", pfas_identifier)\n",
    "    pfas_identifier <- gsub(\"X6.2.\", \"6:2 \", pfas_identifier)\n",
    "    mdl <- mdls[mdls['pfas']==pfas_identifier, 'mdl']\n",
    "  }\n",
    "  else{\n",
    "    mdl<-0\n",
    "    }\n",
    "\n",
    "  linking_data[linking_data$Processed.for.PFAS.Targeted.LC.MS=='YES', pfas_component][\n",
    "    is.na(linking_data[linking_data$Processed.for.PFAS.Targeted.LC.MS=='YES', pfas_component])\n",
    "  ] <- mdl / sqrt(2)\n",
    "}\n",
    "\n",
    "# delete rows which indicate if total protein was analysed/if pfas was analyzed\n",
    "linking_data <- linking_data[,-c(3, 5)]\n",
    "\n",
    "# summarize all column headers, which will be relevant for further analysis\n",
    "relevant_columns <- append(c('Proteins', 'Lipids', 'Liverfat', 'BMI', 'Age'), pfas_subset)\n",
    "relevant_columns_and_proteins <- append(relevant_columns, protein_subset)\n",
    "\n",
    "# convert to numeric type\n",
    "for (column in relevant_columns_and_proteins){\n",
    "  linking_data[, column] <- as.numeric(as.character(linking_data[, column]))\n",
    "}\n",
    "\n",
    "IRdisplay::display(linking_data)\n"
   ]
  },
  {
   "cell_type": "markdown",
   "metadata": {},
   "source": [
    "# boxplots dependent on health status and gender"
   ]
  },
  {
   "cell_type": "code",
   "execution_count": null,
   "metadata": {
    "vscode": {
     "languageId": "r"
    }
   },
   "outputs": [],
   "source": [
    "# for (column in relevant_columns){\n",
    "#     p_value <- t.test(linking_data[linking_data$Sex=='Male', column], linking_data[linking_data$Sex=='Female', column])$p.value\n",
    "#     p_value_string <- glue('p-value:{round(p_value,3)}')\n",
    "#     png(glue('{results_folder}boxplot_gender_{column}.png'))\n",
    "#     gg <- ggplot(data=linking_data, aes_string(x='Sex', y=column, group='Sex')) + geom_boxplot() + \n",
    "#     annotation_custom(grobTree(textGrob(p_value_string, x=0.4,  y=0.95, hjust=0)))\n",
    "#     print(gg)\n",
    "#     dev.off()\n",
    "# }\n",
    "\n",
    "# for (column in relevant_columns){\n",
    "#     p_value <- t.test(linking_data[linking_data$Health.Status=='Normal', column], linking_data[linking_data$Health.Status=='NAFLD', column])$p.value\n",
    "#     p_value_string <- glue('p-value:{round(p_value,3)}')\n",
    "#     png(glue('{results_folder}boxplot_health_status_{column}.png'))\n",
    "#     gg <- ggplot(data=linking_data, aes_string(x='Health.Status', y=column, group='Health.Status')) + geom_boxplot() + \n",
    "#     annotation_custom(grobTree(textGrob(p_value_string, x=0.4,  y=0.95, hjust=0)))\n",
    "#     print(gg)\n",
    "#     dev.off()\n",
    "# }\n",
    "\n",
    "    # png(glue('{results_folder}scatterplot_age_{column}.png'))\n",
    "    # gg <- ggplot(data=linking_data, aes_string(x='Age', y=column, shape='Sex')) + geom_point(size=6)\n",
    "    # print(gg)\n",
    "    # dev.off()\n",
    "\n"
   ]
  },
  {
   "cell_type": "markdown",
   "metadata": {},
   "source": [
    "Function to compute correlation and filter certain values. \\\n",
    "Plot correlation data only from fields which are not NaN, not 1 and the magnitude is greater than sigma.\n",
    "Plot correlations from each relevant point (not 1, not NaN and magnitude greater than sigma)"
   ]
  },
  {
   "cell_type": "code",
   "execution_count": null,
   "metadata": {
    "vscode": {
     "languageId": "r"
    }
   },
   "outputs": [],
   "source": [
    "corr_simple <- function(xdata, ydata, sig){\n",
    "  # run a correlation and drop the insignificant ones\n",
    "  mtx_corr <- cor(xdata, ydata, method = \"spearman\", use='pairwise.complete.obs')\n",
    "  # drop perfect correlations\n",
    "  IRdisplay::display(mtx_corr)\n",
    "  return(mtx_corr)\n",
    "  }\n",
    "\n",
    "plot_corr <-function(mtx_corr, results_folder, n){\n",
    "  # plot correlations visually\n",
    "  png(glue('{results_folder}correlation_plot_{n}.png'))\n",
    "  # corrplot(mtx_corr, is.corr=FALSE, tl.cex=0.5, tl.col=\"black\", na.label=\" \")\n",
    "  corrplot(mtx_corr, method = 'color', type = 'lower', diag = FALSE, tl.col = \"black\", addCoef.col = 'black', addgrid.col = 'black')\n",
    "  dev.off()\n",
    "}\n",
    "\n",
    "customized_panel_function <- function(x, y, corr = NULL, col.regions, ...){\n",
    "  # source for plot from pfas and whaltes paper: \n",
    "  # https://stackoverflow.com/questions/19012529/correlation-corrplot-configuration\n",
    "  corr <- cor(x, y, method=\"spearman\", use=\"pairwise.complete.obs\")\n",
    "  est <- cor.test(x, y, alternative = \"two.sided\")$p.value\n",
    "  stars <- ifelse(est < 5e-4, \"***\", \n",
    "                  ifelse(est < 5e-3, \"**\", \n",
    "                         ifelse(est < 5e-2, \"*\", \"\")))\n",
    "  ncol <- 14\n",
    "  pal <- col.regions(ncol)\n",
    "  col.ind <- as.numeric(cut(corr, breaks = seq(from = -1, to = 1, length = ncol + 1), include.lowest = TRUE))\n",
    "  usr <- par(\"usr\")\n",
    "  rect(usr[1], usr[3], usr[2], usr[4], col = pal[col.ind], border = NA)\n",
    "  box(col = \"lightgray\")\n",
    "  on.exit(par(usr))\n",
    "  par(usr = c(0, 1, 0, 1))\n",
    "  r <- formatC(corr, digits = 2, format = \"f\")\n",
    "  cex.cor <- .8/strwidth(\"-X.xx\")\n",
    "  fonts <- ifelse(stars != \"\", 2,1)\n",
    "  # option 1: stars:\n",
    "  text(0.5, 0.4, paste0(r, \"\\n\", stars), cex = cex.cor)\n",
    "}\n",
    "\n",
    "plot_single_corrs <-function(mtx_corr, link_data, results_folder, sigma){\n",
    "  for (pfas in rownames(mtx_corr)){\n",
    "    xdata <- link_data[[pfas]]\n",
    "    for (protein in colnames(mtx_corr)){\n",
    "      correlation <- mtx_corr[pfas, protein]\n",
    "      if (is.na(correlation)){\n",
    "        next\n",
    "      } else{\n",
    "        if (abs(correlation) > sigma){\n",
    "          ydata <- link_data[[protein]]\n",
    "          x_name <- gsub('\\\\.', '_', pfas)\n",
    "          y_name <- gsub('\\\\.', '_', make.names(protein))\n",
    "          png(glue('{results_folder}correlation_{x_name}_{y_name}.png'))\n",
    "          gg <- ggplot(data=link_data, aes(x=xdata, y=ydata)) + geom_point() + geom_smooth(method='lm', se=TRUE, linetype='dashed') + \n",
    "          labs(x=glue('{x_name} [ng/g]'), y=glue('{y_name} [?]')) + theme_minimal()\n",
    "          print(gg)\n",
    "          dev.off()\n",
    "        }\n",
    "      }\n",
    "    }\n",
    "  }\n",
    "}"
   ]
  },
  {
   "cell_type": "markdown",
   "metadata": {},
   "source": [
    "Make (PFAS vs. proteomics) correlation plots"
   ]
  },
  {
   "cell_type": "code",
   "execution_count": null,
   "metadata": {
    "vscode": {
     "languageId": "r"
    }
   },
   "outputs": [],
   "source": [
    "# plot correlation matrix of pfas and general information both ways\n",
    "mtx_corr_basic <- corr_simple(xdata=linking_data[relevant_columns], ydata=linking_data[relevant_columns_and_proteins], sig=sigma)\n",
    "mtx_corr_basic[upper.tri(mtx_corr_basic, diag=TRUE)] <- NA\n",
    "\n",
    "png(glue('{results_folder}correlation_plot.png'))\n",
    "corrgram(linking_data[relevant_columns], type=\"data\", lower.panel=customized_panel_function, upper.panel=NULL)\n",
    "dev.off()\n",
    "\n",
    "# plot correlation matrix of pfas and general information vs. proteins\n",
    "cols_per_plot <- 50\n",
    "mtx_corr_proteins <- corr_simple(\n",
    "  xdata=linking_data[relevant_columns], ydata=linking_data[protein_subset], sig=sigma\n",
    "  )\n",
    "  \n",
    "for (n in seq(from=1, to=floor(ncol(mtx_corr_proteins)/cols_per_plot), by=1)){\n",
    "  plot_corr(mtx_corr=mtx_corr_proteins[, c(seq((n-1) * cols_per_plot, n * cols_per_plot, 1))], results_folder=results_folder, n=n)\n",
    "}\n",
    "\n",
    "# plot_corr(mtx_corr=mtx_corr[, c(seq((n-1) * cols_per_plot, n * cols_per_plot, 1))], results_folder=results_folder, n=n)\n",
    "\n",
    "# plot_single_corrs(mtx_corr=mtx_corr, link_data=linking_data[relevant_columns_and_proteins], results_folder=results_folder, sigma=sigma)"
   ]
  },
  {
   "cell_type": "markdown",
   "metadata": {},
   "source": [
    "Make PFAS vs. PFAS correlation plots"
   ]
  },
  {
   "cell_type": "code",
   "execution_count": null,
   "metadata": {
    "vscode": {
     "languageId": "r"
    }
   },
   "outputs": [],
   "source": [
    "mtx_corr <- corr_simple(\n",
    "  xdata=link_data[c(4:16)], ydata=link_data[c(4:16)], sig=sigma\n",
    "  )\n",
    "  \n",
    "plot_corr(mtx_corr=mtx_corr, results_folder=results_folder, n=n+1)\n",
    "\n",
    "plot_single_corrs(mtx_corr=mtx_corr, link_data=link_data, results_folder=results_folder, sigma=sigma)"
   ]
  }
 ],
 "metadata": {
  "kernelspec": {
   "display_name": "R",
   "language": "R",
   "name": "ir"
  },
  "language_info": {
   "codemirror_mode": "r",
   "file_extension": ".r",
   "mimetype": "text/x-r-source",
   "name": "R",
   "pygments_lexer": "r",
   "version": "4.1.2"
  }
 },
 "nbformat": 4,
 "nbformat_minor": 4
}

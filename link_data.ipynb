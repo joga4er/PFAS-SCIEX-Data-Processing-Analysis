{
 "cells": [
  {
   "cell_type": "markdown",
   "metadata": {},
   "source": [
    "name: link_data \\\n",
    "date: 12/12/2024 \\\n",
    "version: 1.0 \\\n",
    "author: Juliana Agudelo, Johanna Ganglbauer \\\n",
    "\n",
    "**description**: Links LCMS data with general sample description, plots and evaluates correlations.\n",
    "\n",
    "**changes in comparison to previous version**:\n",
    "\n",
    "**what needs to be implemented**:\n"
   ]
  },
  {
   "cell_type": "markdown",
   "metadata": {},
   "source": [
    "### Packages and parameters\n"
   ]
  },
  {
   "cell_type": "code",
   "execution_count": null,
   "metadata": {
    "vscode": {
     "languageId": "r"
    }
   },
   "outputs": [],
   "source": [
    "# install packages\n",
    "library('ggplot2')\n",
    "library('corrplot')\n",
    "library('xlsx')\n",
    "library('tidyr')\n",
    "library('dplyr')\n",
    "library('glue')\n",
    "library('grid')\n",
    "library('corrgram')\n",
    "library('zeallot')\n",
    "library('ggpubr')\n",
    "library('gridExtra')\n",
    "library('gtable')\n",
    "\n",
    "# restuls folder\n",
    "results_folder <- 'G:/Shared drives/LOHMANN LAB/STEEP project 4/4_LC MS analysis/STEEP_P3_Slitt_Lab_Juliana_Agudelo/Liver_samples_kansas/plots/'\n",
    "\n",
    "# thresholds\n",
    "sigma = 0.5  # threshold for correlation value to be shown in correlation plot (correlations below sigma will not be shown)\n",
    "cols_per_plot <- 11  # number of proteins shown on each correlation plot\n",
    "nan_to_zero <- FALSE  # empty cells in proteomics and <MDL in LCMS are treated as zero?\n",
    "min_coverage <- 0.4  # minimum coverage (not NAN entries in columns) to be included in evaluation\n",
    "max_char_protein <- 9  # determines maximum number of letters allowed in protein names (used for correlation plots)"
   ]
  },
  {
   "cell_type": "markdown",
   "metadata": {},
   "source": [
    "Below you find code to automatically read in lcms result files from lcms data analysis script, find samples of interst (relevant samples are indicated in linking_data_file) and put it in a data frame."
   ]
  },
  {
   "cell_type": "code",
   "execution_count": null,
   "metadata": {
    "vscode": {
     "languageId": "r"
    }
   },
   "outputs": [],
   "source": [
    "# # read in linking data, LCMS data and put everything together in a data frame\n",
    "# link_data <- data.frame(read.csv(linking_data_file, na.strings=''))\n",
    "\n",
    "# # get all results in lcms result folder and put them together in a dataframe\n",
    "# # curent status: 1 file: todo -> make list!\n",
    "# list_csv_files = list.files(path = lcms_results_folder, pattern = '*.csv')\n",
    "# lcms_data <- read.csv(file.path(lcms_results_folder, list_csv_files[1]), na.strings='', stringsAsFactors=FALSE)\n",
    "# lcms_data <- data.frame(lcms_data)\n",
    "# for (column in c('Below.Detection.Threshold')){\n",
    "#     lcms_data[[column]] = as.logical(lcms_data[[column]])\n",
    "#     lcms_data[is.na(column), column] <- FALSE\n",
    "# }\n",
    "\n",
    "# lcms_data$Calculated.Concentration[lcms_data$Below.Detection.Threshold] <- NA\n",
    "\n",
    "# for (pfas_component in lcms_data$Component.Name){\n",
    "#     link_data[, pfas_component] <- NA\n",
    "#     relevant_concentration = lcms_data[lcms_data$Component.Name == pfas_component,]\n",
    "#     for (row in 1:nrow(link_data)){\n",
    "#         concentration = relevant_concentration$Calculated.Concentration[relevant_concentration$Sample.Name == link_data[row, 'sample_name_in_lcms']]\n",
    "#         link_data[row, pfas_component] = concentration\n",
    "#     }\n",
    "# }"
   ]
  },
  {
   "cell_type": "markdown",
   "metadata": {},
   "source": [
    "Very specific case: special input file for LCMS (not generalized), relevant for one concrete example. \\\n",
    "Read in data and replace '<MDL' with NA \\\n",
    "Append lcms data to original 'linking_data' data frame"
   ]
  },
  {
   "cell_type": "code",
   "execution_count": null,
   "metadata": {
    "vscode": {
     "languageId": "r"
    }
   },
   "outputs": [],
   "source": [
    "# lcms_data <- read.xlsx(\n",
    "#     lcms_results_file, lcms_results_sheet_name, rowIndex = 18:21, colIndex = 1:14, stringsAsFactors = FALSE\n",
    "#     )\n",
    "# lcms_data <- lcms_data %>% mutate_all(~ifelse(. == \"<MDL\", NA, .))\n",
    "\n",
    "# for (pfas_component in colnames(lcms_data)){\n",
    "#     if (pfas_component == 'ng.g') {\n",
    "#         next\n",
    "#         }\n",
    "#     for (row in 1:nrow(link_data)){\n",
    "#         concentration = as.numeric(as.character(lcms_data[[pfas_component]][lcms_data$ng.g == link_data[row, 'sample_name_in_lcms']]))\n",
    "#         link_data[row, pfas_component] = concentration\n",
    "#     }\n",
    "# }"
   ]
  },
  {
   "cell_type": "markdown",
   "metadata": {},
   "source": [
    "### Option 2\n",
    "Relevant data + PFAS data in one file, proteomics somewhere else\n",
    "(1) read in and clean 'general input table'\n",
    "(2) read in and clean proteomics data"
   ]
  },
  {
   "cell_type": "code",
   "execution_count": null,
   "metadata": {
    "vscode": {
     "languageId": "r"
    }
   },
   "outputs": [],
   "source": [
    "# read in relevant rows\n",
    "linking_data <- read.xlsx(\n",
    "    'G:/Shared drives/LOHMANN LAB/STEEP project 4/4_LC MS analysis/STEEP_P3_Slitt_Lab_Juliana_Agudelo/Liver_samples_kansas/Liver_samples_kansas.xlsx',\n",
    "    'Use this', rowIndex = 1:96, colIndex = append(c(5, 7, 14, 26, 29, 37, 38, 49, 50, 51, 55), seq(58, 82, 1)), stringsAsFactors = FALSE\n",
    ")\n",
    "\n",
    "# data cleaning\n",
    "# replace 1 month age with 0 (years)\n",
    "linking_data$Age <- replace(linking_data$Age, linking_data$Age=='1 month', 0)\n",
    "\n",
    "# replace 'Unk' with NA\n",
    "linking_data$Body.Mass.Index..BMI. <- replace(linking_data$Body.Mass.Index..BMI., linking_data$Body.Mass.Index..BMI.=='Unk', NA)\n",
    "\n",
    "# replace 'Unknown' with NA\n",
    "linking_data$Specimen.Collection.Year <- replace(linking_data$Specimen.Collection.Year, linking_data$Specimen.Collection.Year=='Unknown', NA)\n",
    "\n",
    "# selct only rows which contain either PFAS Analysis or Proteomics Analysis\n",
    "linking_data <- linking_data[linking_data$Processed.for.PFAS.Targeted.LC.MS == 'YES' | linking_data$Processed.for.Proteomics.Analysis == 'YES', ]"
   ]
  },
  {
   "cell_type": "markdown",
   "metadata": {},
   "source": [
    "# Read in proteomics data and append to linking_data"
   ]
  },
  {
   "cell_type": "code",
   "execution_count": null,
   "metadata": {
    "vscode": {
     "languageId": "r"
    }
   },
   "outputs": [],
   "source": [
    "# read in proteomics data\n",
    "proteomics_data <- read.csv(\n",
    "  'G:/Shared drives/LOHMANN LAB/STEEP project 4/4_LC MS analysis/STEEP_P3_Slitt_Lab_Juliana_Agudelo/Liver_samples_kansas/202411_liver_samples_kansas_proteins.csv',\n",
    "  stringsAsFactors = FALSE\n",
    "  )\n",
    "\n",
    "available_sample_names <- colnames(proteomics_data)  # get column headers from proteomics data\n",
    "number_of_linking_data_rows = nrow(linking_data)  # number of rows (samples) in linking data\n",
    "\n",
    "# make protein descriptions shorter -> otherwise caption in correlation plot takes up too much space\n",
    "for (row_index in seq_along(proteomics_data$PG.ProteinNames)){\n",
    "    protein_name <- proteomics_data[row_index, \"PG.ProteinNames\"]\n",
    "    if (nchar(protein_name) > max_char_protein){\n",
    "        proteomics_data[row_index, \"PG.ProteinNames\"] <- substr(protein_name, start=1, stop=max_char_protein)\n",
    "    }\n",
    "}\n",
    "\n",
    "# loop over proteins and append value to correct row of linking data samples\n",
    "for(protein in proteomics_data$PG.ProteinNames){\n",
    "    # get protein concentrations for all samples and protein name\n",
    "    protein_concentrations <- proteomics_data[proteomics_data$PG.ProteinNames == protein, ]\n",
    "    protein_name <- make.names(protein)\n",
    "    # loop over samples and append protein concentration column to linking data\n",
    "    for(row in 1:number_of_linking_data_rows){\n",
    "        sample_name_in_linking_data <- make.names(linking_data[row, 'Site...Specimen.Number'])\n",
    "        mask_sample_name_in_proteomics_data <- grepl(sample_name_in_linking_data, available_sample_names)\n",
    "        if(any(mask_sample_name_in_proteomics_data)){\n",
    "            sample_name_in_proteomics_data <- available_sample_names[mask_sample_name_in_proteomics_data]\n",
    "            linking_data[row, protein_name] <- protein_concentrations[[sample_name_in_proteomics_data]]\n",
    "        } \n",
    "    }\n",
    "}"
   ]
  },
  {
   "cell_type": "markdown",
   "metadata": {},
   "source": [
    "# Data Cleaning\n",
    "- rename columns of dataframe\n",
    "- delete columns with too many NA values (< min coverage>)\n",
    "- make sure all numbers are interpreted as numbers\n",
    "- shorten protein descriptions to 10 letters\n"
   ]
  },
  {
   "cell_type": "code",
   "execution_count": null,
   "metadata": {
    "vscode": {
     "languageId": "r"
    }
   },
   "outputs": [],
   "source": [
    "# compute data coverage of each row (how many data entries compared to NaNs)\n",
    "coverage <- linking_data %>% summarise_all(~ number_of_linking_data_rows - sum(is.na(.))) / number_of_linking_data_rows\n",
    "\n",
    "# delete columns with low coverage\n",
    "linking_data <- linking_data[,coverage >= min_coverage]\n",
    "\n",
    "# rename columns\n",
    "colnames(linking_data)[colnames(linking_data) == 'BCA.Total.Protein..mg.mL.or.g.L.'] <- 'Proteins'\n",
    "colnames(linking_data)[colnames(linking_data) == 'Total.Lipids..g.g.'] <- 'Lipids'\n",
    "colnames(linking_data)[colnames(linking_data) == 'Liver.Fat.Content....'] <- 'Liverfat'\n",
    "colnames(linking_data)[colnames(linking_data) == 'Body.Mass.Index..BMI.'] <- 'BMI'\n",
    "colnames(linking_data)[colnames(linking_data) == 'X.U.2211.PFAS..ng.g.'] <- 'PFAS'\n",
    "\n",
    "# Get all PFAS column names\n",
    "all_columns <- colnames(linking_data)\n",
    "pfas_subset <- all_columns[grepl('(PF|FOSA|FTS)', all_columns)]\n",
    "pfas_subset <- pfas_subset[!grepl('(Processed.for.PFAS.Targeted.LC.MS.|rotein|RNA|_HUM)', pfas_subset)]\n",
    "\n",
    "# get all protein column names\n",
    "protein_subset <- all_columns[seq(match(pfas_subset[length(pfas_subset)],all_columns), length(all_columns), 1)]\n",
    "protein_subset <- protein_subset[seq(2, length(protein_subset), 1)]\n",
    "\n",
    "# Set all pfas values below MDL to zero (it is important that rows where no PFAS analysis was conducted remain NaN)\n",
    "mdls <- read.xlsx(\n",
    "  'G:/Shared drives/LOHMANN LAB/STEEP project 4/4_LC MS analysis/STEEP_P3_Slitt_Lab_Juliana_Agudelo/Liver_samples_kansas/20241212_liver_samples_kansas_lcms.xlsx',\n",
    "  'Detection Threshold', colIndex = c(1,6), stringsAsFactors = FALSE\n",
    ")\n",
    "\n",
    "colnames(mdls) <- c('pfas', 'mdl')\n",
    "\n",
    "for (pfas_component in pfas_subset){\n",
    "  if(pfas_component != 'PFAS'){\n",
    "    pfas_identifier <- gsub(\"L.\", \"L-\", pfas_component)\n",
    "    pfas_identifier <- gsub(\"Br.\", \"Br-\", pfas_identifier)\n",
    "    pfas_identifier <- gsub(\"X6.2.\", \"6:2 \", pfas_identifier)\n",
    "    mdl <- mdls[mdls['pfas']==pfas_identifier, 'mdl']\n",
    "  }\n",
    "  else{\n",
    "    mdl<-0\n",
    "    }\n",
    "  linking_data[linking_data$Processed.for.PFAS.Targeted.LC.MS=='YES', pfas_component][\n",
    "    is.na(linking_data[linking_data$Processed.for.PFAS.Targeted.LC.MS=='YES', pfas_component])\n",
    "  ] <- mdl / sqrt(2)\n",
    "}\n",
    "\n",
    "# delete rows which indicate if total protein was analysed/if pfas was analyzed\n",
    "linking_data <- linking_data[,-c(3, 5)]\n",
    "\n",
    "# summarize all column headers, which will be relevant for further analysis\n",
    "relevant_columns <- append(c('Proteins', 'Lipids', 'Liverfat', 'BMI', 'Age'), pfas_subset)\n",
    "relevant_columns_and_proteins <- append(relevant_columns, protein_subset)\n",
    "\n",
    "# convert to numeric type\n",
    "for (column in relevant_columns_and_proteins){\n",
    "  linking_data[, column] <- as.numeric(as.character(linking_data[, column]))\n",
    "}\n",
    "\n",
    "IRdisplay::display(linking_data)\n"
   ]
  },
  {
   "cell_type": "markdown",
   "metadata": {},
   "source": [
    "# boxplots dependent on health status and gender\n",
    "\n",
    "### Option one: two groups (male/female) and (normal health, NAFLD) and t.test\n",
    "### Option two: four groups (male+normal health, male + NAFLD, female + normal health, female + NAFLD) with one-way ANOVA"
   ]
  },
  {
   "cell_type": "code",
   "execution_count": null,
   "metadata": {
    "vscode": {
     "languageId": "r"
    }
   },
   "outputs": [],
   "source": [
    "# for (column in relevant_columns){\n",
    "#     p_value <- t.test(linking_data[linking_data$Sex=='Male', column], linking_data[linking_data$Sex=='Female', column])$p.value\n",
    "#     p_value_string <- glue('p-value:{round(p_value,3)}')\n",
    "#     png(glue('{results_folder}boxplot_gender_{column}.png'))\n",
    "#     gg <- ggplot(data=linking_data, aes_string(x='Sex', y=column, group='Sex')) + geom_boxplot() + \n",
    "#     annotation_custom(grobTree(textGrob(p_value_string, x=0.4,  y=0.95, hjust=0)))\n",
    "#     print(gg)\n",
    "#     dev.off()\n",
    "# }\n",
    "\n",
    "# for (column in relevant_columns){\n",
    "#     p_value <- t.test(linking_data[linking_data$Health.Status=='Normal', column], linking_data[linking_data$Health.Status=='NAFLD', column])$p.value\n",
    "#     p_value_string <- glue('p-value:{round(p_value,3)}')\n",
    "#     png(glue('{results_folder}boxplot_health_status_{column}.png'))\n",
    "#     gg <- ggplot(data=linking_data, aes_string(x='Health.Status', y=column, group='Health.Status')) + geom_boxplot() + \n",
    "#     annotation_custom(grobTree(textGrob(p_value_string, x=0.4,  y=0.95, hjust=0)))\n",
    "#     print(gg)\n",
    "#     dev.off()\n",
    "# }\n",
    "\n",
    "    # png(glue('{results_folder}scatterplot_age_{column}.png'))\n",
    "    # gg <- ggplot(data=linking_data, aes_string(x='Age', y=column, shape='Sex')) + geom_point(size=6)\n",
    "    # print(gg)\n",
    "    # dev.off()\n",
    "\n"
   ]
  },
  {
   "cell_type": "code",
   "execution_count": null,
   "metadata": {
    "vscode": {
     "languageId": "r"
    }
   },
   "outputs": [],
   "source": [
    "# useful: https://www.sthda.com/english/wiki/one-way-anova-test-in-r\n",
    "\n",
    "# make new column combining information from Sex and Health.Status\n",
    "four_group_linking_data <- linking_data\n",
    "for (row in rownames(linking_data)){\n",
    "    four_group_linking_data[row, 'Sex.And.Health'] <- paste0(\n",
    "        linking_data[row, 'Sex'], \"_\", linking_data[row, 'Health.Status']\n",
    "    )\n",
    "}\n",
    "\n",
    "# only use relevant columns not proteins\n",
    "four_group_linking_data <- four_group_linking_data[append(relevant_columns, 'Sex.And.Health')]\n",
    "plot_list <- list()\n",
    "i <- 0\n",
    "\n",
    "# instead of boxplots, you can also make points and averages (see link above)\n",
    "for (column in relevant_columns){\n",
    "    # # Compute the analysis of variance\n",
    "    aov_calc <- aov(four_group_linking_data[,column] ~ Sex.And.Health, data = four_group_linking_data)\n",
    "    # Summary of the analysis\n",
    "    print(column)\n",
    "    print(summary(aov_calc))\n",
    "    if(summary(aov_calc)[[1]][[\"Pr(>F)\"]][[1]] <= 0.05){\n",
    "        print(TukeyHSD(aov_calc))\n",
    "    }\n",
    "    # p_value <- t.test(linking_data[linking_data$Sex=='Male', column], linking_data[linking_data$Sex=='Female', column])$p.value\n",
    "    # p_value_string <- glue('p-value:{round(p_value,3)}')\n",
    "    g <- ggplot(\n",
    "        data=four_group_linking_data, aes_string(x='Sex.And.Health', y=column, group='Sex.And.Health', fill='Sex.And.Health')\n",
    "        ) + geom_boxplot() + theme(legend.position='bottom')\n",
    "    if(i==1){\n",
    "        legend <- gtable_filter(ggplotGrob(g), \"guide-box\")\n",
    "    }\n",
    "    plot_list[[i + 1]] <- ggplotGrob(g + theme(axis.title.x = element_blank(), axis.text.x = element_blank(), legend.position='none'))\n",
    "    # annotation_custom(grobTree(textGrob(p_value_string, x=0.4,  y=0.95, hjust=0)))\n",
    "    i <- i + 1\n",
    "}\n",
    "\n",
    "plot_list <- append(plot_list, list(legend))\n",
    "lay <- rbind(c(1,2,3),\n",
    "             c(4,5,6),\n",
    "             c(7,8,9),\n",
    "             c(10,11,12),\n",
    "             c(13,13,13))\n",
    "\n",
    "png(glue('{results_folder}boxplots_gender_and_health_status.png'))\n",
    "grid.arrange(grobs=plot_list, layout_matrix=lay)\n",
    "dev.off()"
   ]
  },
  {
   "cell_type": "markdown",
   "metadata": {},
   "source": [
    "Function to compute correlation and filter certain values. \\\n",
    "Plot correlation data only from fields which are not NaN, not 1 and the magnitude is greater than sigma.\n",
    "Plot correlations from each relevant point (not 1, not NaN and magnitude greater than sigma)"
   ]
  },
  {
   "cell_type": "code",
   "execution_count": null,
   "metadata": {
    "vscode": {
     "languageId": "r"
    }
   },
   "outputs": [],
   "source": [
    "corr_simple <- function(xdata, ydata, sig){\n",
    "  # run a correlation and test its significance - possible for different dimensions in x and y\n",
    "  # correlation excluding NA\n",
    "  mtx_corr <- cor(xdata, ydata, method = \"spearman\", use='pairwise.complete.obs')\n",
    "  # p value, element-wise with column of x data and column of y data\n",
    "  mtx_p <- mtx_corr # initialize\n",
    "  # loop over x and y in correlation matrix\n",
    "  for(x in colnames(xdata)){\n",
    "    for(y in colnames(ydata)){\n",
    "      mtx_p[x, y] <- NA\n",
    "      mtx_p[x,y] <- cor.test(xdata[[x]], ydata[[y]], alternative = \"two.sided\")$p.value\n",
    "    }\n",
    "  }\n",
    "  # delete all columns where no correlation is greater than sigma (looking at absolute values)\n",
    "  mtx_p <- mtx_p[, apply(mtx_corr, 2, function(x) any(abs(x) > sigma))]\n",
    "  mtx_corr <- mtx_corr[, apply(mtx_corr, 2, function(x) any(abs(x) > sigma))]\n",
    "\n",
    "  # optional delete all columns where no p-value is greather than 0.05\n",
    "  mtx_corr <- mtx_corr[, apply(mtx_p, 2, function(x) any(x <= 0.05))]\n",
    "  mtx_p <- mtx_p[, apply(mtx_p, 2, function(x) any(x <= 0.05))]\n",
    "\n",
    "  return(list(mtx_corr, mtx_p))\n",
    "  }\n",
    "\n",
    "plot_corr <- function(mtx_corr, mtx_p, results_folder, n){\n",
    "  # correlation plot possible for different dimensions in x and y\n",
    "  # prepare text for each field of the corrplot (correlation value, significance)\n",
    "  mtx_text <- mtx_corr\n",
    "  for (row in rownames(mtx_corr)){\n",
    "    for (column in colnames(mtx_corr)){\n",
    "      # correlation value\n",
    "      r <- formatC(mtx_corr[row, column], digits = 2, format = \"f\")\n",
    "      # stars based on p value\n",
    "      est <- mtx_p[row, column]\n",
    "      stars <- ifelse(est < 5e-4, \"***\",\n",
    "                ifelse(est < 5e-3, \"**\", \n",
    "                  ifelse(est < 5e-2, \"*\", \"\")))\n",
    "\n",
    "      # save to text dataframe\n",
    "      mtx_text[row, column] <- NA\n",
    "      mtx_text[row, column] <- paste0(r, \"\\n\", stars)\n",
    "    }\n",
    "  }\n",
    "\n",
    "  # plot correlations visually\n",
    "  png(glue('{results_folder}correlation_plot_{n}.png'))\n",
    "  corrplot(\n",
    "    mtx_corr, method='color', tl.col=\"black\", addgrid.col='lightgrey',\n",
    "    col=colorRampPalette(colors=c(\"red\", \"salmon\", \"white\", \"royalblue\", \"navy\"))(100),\n",
    "    )$corrPos -> hc\n",
    "  text(hc$x, hc$y, mtx_text)\n",
    "  dev.off()\n",
    "}\n",
    "\n",
    "customized_panel_function <- function(x, y, corr = NULL, col.regions, ...){\n",
    "  # source for plot from pfas and whaltes paper: \n",
    "  # https://stackoverflow.com/questions/19012529/correlation-corrplot-configuration\n",
    "  corr <- cor(x, y, method=\"spearman\", use=\"pairwise.complete.obs\")\n",
    "  est <- cor.test(x, y, alternative = \"two.sided\")$p.value\n",
    "  stars <- ifelse(est < 5e-4, \"***\", \n",
    "                  ifelse(est < 5e-3, \"**\", \n",
    "                         ifelse(est < 5e-2, \"*\", \"\")))\n",
    "  ncol <- 14\n",
    "  pal <- col.regions(ncol)\n",
    "  col.ind <- as.numeric(cut(corr, breaks = seq(from = -1, to = 1, length = ncol + 1), include.lowest = TRUE))\n",
    "  usr <- par(\"usr\")\n",
    "  rect(usr[1], usr[3], usr[2], usr[4], col = pal[col.ind], border = NA)\n",
    "  box(col = \"lightgray\")\n",
    "  on.exit(par(usr))\n",
    "  par(usr = c(0, 1, 0, 1))\n",
    "  r <- formatC(corr, digits = 2, format = \"f\")\n",
    "  cex.cor <- .8/strwidth(\"-X.xx\")\n",
    "  fonts <- ifelse(stars != \"\", 2,1)\n",
    "  # option 1: stars:\n",
    "  text(0.5, 0.4, paste0(r, \"\\n\", stars), cex = cex.cor)\n",
    "}\n",
    "\n",
    "plot_single_corrs <-function(mtx_corr, mtx_p, link_data, results_folder, sigma){\n",
    "  for (pfas in rownames(mtx_corr)){\n",
    "    xdata <- link_data[[pfas]]\n",
    "    for (protein in colnames(mtx_corr)){\n",
    "      correlation <- mtx_corr[pfas, protein]\n",
    "      p <- mtx_p[pfas, protein]\n",
    "      if (is.na(correlation)){\n",
    "        next\n",
    "      } else{\n",
    "        if (abs(correlation) > sigma && correlation != 1 && p <= 0.05){\n",
    "          ydata <- link_data[[protein]]\n",
    "          x_name <- gsub('\\\\.', '_', pfas)\n",
    "          y_name <- gsub('\\\\.', '_', make.names(protein))\n",
    "          png(glue('{results_folder}correlation_{x_name}_{y_name}.png'))\n",
    "          gg <- ggplot(data=link_data, aes(x=xdata, y=ydata)) + geom_point() + geom_smooth(method='lm', se=TRUE, linetype='dashed') + \n",
    "          labs(x=glue('{x_name} [ng/g]'), y=glue('{y_name} [?]')) + theme_minimal()\n",
    "          print(gg)\n",
    "          dev.off()\n",
    "        }\n",
    "      }\n",
    "    }\n",
    "  }\n",
    "}"
   ]
  },
  {
   "cell_type": "markdown",
   "metadata": {},
   "source": [
    "Make (PFAS vs. proteomics) correlation plots"
   ]
  },
  {
   "cell_type": "code",
   "execution_count": null,
   "metadata": {
    "vscode": {
     "languageId": "r"
    }
   },
   "outputs": [],
   "source": [
    "# plot correlation matrix of pfas and general information both ways\n",
    "# evaluate correlation between PFAS and general data\n",
    "c(mtx_corr_basic, mtx_p_basic) %<-% corr_simple(xdata=linking_data[relevant_columns], ydata=linking_data[relevant_columns], sig=sigma)\n",
    "\n",
    "# plot correlation between PFAS and general data\n",
    "png(glue('{results_folder}correlation_plot.png'))\n",
    "corrgram(linking_data[relevant_columns], type=\"data\", lower.panel=customized_panel_function, upper.panel=NULL)\n",
    "dev.off()\n",
    "\n",
    "# plot_corr(mtx_corr=mtx_corr_basic, mtx_p=mtx_p_basic, results_folder=results_folder, n=999)\n",
    "\n",
    "# evaluate correlation matrix of pfas and general information vs. proteins\n",
    "c(mtx_corr_proteins, mtx_p_proteins) %<-% corr_simple(\n",
    "  xdata=linking_data[relevant_columns], ydata=linking_data[protein_subset], sig=sigma\n",
    "  )\n",
    "\n",
    "# plot correlation matrix of pfas and general information vs. proteins\n",
    "for (n in seq(from=1, to=floor(ncol(mtx_corr_proteins)/cols_per_plot), by=1)){\n",
    "  plot_corr(\n",
    "    mtx_corr=mtx_corr_proteins[, c(seq((n-1) * cols_per_plot, n * cols_per_plot, 1))],\n",
    "    mtx_p=mtx_p_proteins[, c(seq((n-1) * cols_per_plot, n * cols_per_plot, 1))],\n",
    "    results_folder=results_folder, n=n\n",
    "    )\n",
    "}\n",
    "\n",
    "plot_corr(\n",
    "  mtx_corr=mtx_corr_proteins[, c(seq((n) * cols_per_plot, ncol(mtx_corr_proteins), 1))],\n",
    "  mtx_p=mtx_p_proteins[, c(seq((n) * cols_per_plot, ncol(mtx_corr_proteins), 1))],\n",
    "  results_folder=results_folder, n=n + 1\n",
    "  )\n",
    "\n",
    "# plot correlations with correlation value above sigma and p <= 5 %\n",
    "plot_single_corrs(mtx_corr=mtx_corr_basic, mtx_p=mtx_p_basic, link_data=linking_data[relevant_columns_and_proteins], results_folder=results_folder, sigma=sigma)\n",
    "plot_single_corrs(mtx_corr=mtx_corr_proteins, mtx_p=mtx_p_proteins, link_data=linking_data[relevant_columns_and_proteins], results_folder=results_folder, sigma=sigma)"
   ]
  }
 ],
 "metadata": {
  "kernelspec": {
   "display_name": "R",
   "language": "R",
   "name": "ir"
  },
  "language_info": {
   "codemirror_mode": "r",
   "file_extension": ".r",
   "mimetype": "text/x-r-source",
   "name": "R",
   "pygments_lexer": "r",
   "version": "4.1.2"
  }
 },
 "nbformat": 4,
 "nbformat_minor": 4
}
